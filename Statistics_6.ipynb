{
 "cells": [
  {
   "cell_type": "code",
   "execution_count": null,
   "id": "6385f970-fe06-40dd-bccf-56ed08a0a479",
   "metadata": {},
   "outputs": [],
   "source": [
    "\"\"\"Q.1\n",
    "T-Test:\n",
    "A t-test is used when the population standard deviation is unknown or when the sample size is small. The t-test takes into account the variability of the sample and provides more accurate results when working with limited data.\n",
    "Example:A company implements a new training program to improve employee productivity. You collect data on the number of tasks completed by each employee before and after the training. Since the sample size is small and the population standard deviation is unknown, you can use a paired t-test to assess whether the training led to a significant increase in productivity.\n",
    "A z-test is used when the population standard deviation is known or when the sample size is sufficiently large (typically n≥30). The z-test assumes a normal distribution and is more appropriate when working with larger sample sizes where the central limit theorem applies.\n",
    "Example:A company claims that their new snack has a mean sodium content of 300 mg per serving. You collect a large random sample of these snacks and measure their sodium content. Since the population standard deviation is known, you can use a z-test to test if the mean sodium content of the snacks matches the claim.\n",
    "The main differences between t-tests and z-tests are related to the sample size and the availability of the population standard deviation. T-tests are used for small sample sizes or when the population standard deviation is unknown, while z-tests are appropriate for larger sample sizes and when the population standard deviation is known."
   ]
  },
  {
   "cell_type": "code",
   "execution_count": null,
   "id": "b26119ae-9123-4463-9120-fa24107b69e1",
   "metadata": {},
   "outputs": [],
   "source": [
    "\"\"\"Q.2\n",
    "One-Tailed Test:\n",
    "In a one-tailed test, the alternative hypothesis specifies a specific direction of effect or difference. The test focuses on whether the sample evidence supports the idea that a population parameter is either greater than or less than a specific value, but not both. This type of test is useful when you have a specific expectation about the direction of the effect.\n",
    "In one tailed test,there will only have one critical region.\n",
    "Two-Tailed Test:\n",
    "In a two-tailed test, the alternative hypothesis does not specify a particular direction of effect or difference. The test aims to determine whether the sample evidence supports that a population parameter is different from a specific value, regardless of the direction of the difference. This type of test is used when you're interested in detecting any significant deviation from the null hypothesis, regardless of the direction.\n",
    "In two-tailed test,it will have two critical regions.\n",
    "The distinction between one-tailed and two-tailed tests lies in whether the alternative hypothesis specifies a specific direction of effect or difference or whether it only indicates a significant difference without specifying the direction."
   ]
  },
  {
   "cell_type": "code",
   "execution_count": null,
   "id": "e3f65966-4668-4f93-a81e-424dd5130947",
   "metadata": {},
   "outputs": [],
   "source": [
    "\"\"\"Q.2\n",
    "One-Tailed Test                                                                                                                                             Two-Tailed Test\n",
    "1.A test of any statistical hypothesis, where the alternative hypothesis is one-tailed either right-tailed or left-tailed.                     A test of a statistical hypothesis, where the alternative hypothesis is two-tailed.\n",
    "2.For one-tailed, we use either > or < sign for the alternative hypothesis.                                                                    For two-tailed, we use ≠ sign for the alternative hypothesis.\n",
    "3.When the alternative hypothesis specifies a direction then we use a one-tailed test.                                                         If no direction is given then we will use a two-tailed test.\n",
    "4.Critical region lies entirely on either the right side or left side of the sampling distribution.                                            Critical region is given by the portion of the area lying in both the tails of the probability curve of the test statistic.\n",
    "5.Here, the Entire level of significance (α) i.e. 5% has either in the left tail or right tail.                                                It splits the level of significance (α) into half.\n",
    "6.Rejection region is either from the left side or right side of the sampling distribution.                                                    Rejection region is from both sides i.e. left and right of the sampling distribution.\n",
    "7.It checks the relation between the variable in a singles direction.                                                                          It checks the relation between the variables in any direction.\n",
    "8.It is used to check whether the one mean is different from another mean or not.                                                              It is used to check whether the two mean different from one another or not."
   ]
  },
  {
   "cell_type": "code",
   "execution_count": null,
   "id": "0da78324-ff85-4c91-a372-57e3339ff418",
   "metadata": {},
   "outputs": [],
   "source": [
    "\"\"\"Q.3\n",
    "Type I Error (False Positive):\n",
    "A Type I error occurs when you incorrectly reject a true null hypothesis. In other words, you conclude that there is a significant effect or difference when, in reality, there is no effect or difference. This error is also known as a \"false positive.\"\n",
    "Example Scenario for Type I Error:\n",
    "Suppose a pharmaceutical company is testing a new drug for its effectiveness in reducing blood pressure. The null hypothesis (H0) is that the drug has no effect on blood pressure. If the company conducts a clinical trial and erroneously concludes that the drug is effective in reducing blood pressure when, in fact, it has no effect, that would be a Type I error.\n",
    "Type II Error (False Negative):\n",
    "A Type II error occurs when you fail to reject a false null hypothesis. In other words, you conclude that there is no significant effect or difference when, in reality, there is an effect or difference. This error is also known as a \"false negative.\"\n",
    "Example Scenario for Type II Error:\n",
    "Imagine a manufacturer claims that their light bulbs have an average lifespan of 10,000 hours. A consumer group tests a sample of these light bulbs and fails to find enough evidence to conclude that the average lifespan is different from 10,000 hours. However, it turns out that the average lifespan is actually 9,500 hours. In this case, the consumer group made a Type II error by failing to reject the null hypothesis when it was false.\n",
    "\n",
    "Type I Error (False Positive): Rejecting a true null hypothesis.\n",
    "Type II Error (False Negative): Failing to reject a false null hypothesis."
   ]
  },
  {
   "cell_type": "code",
   "execution_count": null,
   "id": "f990c449-138c-4a6a-b7f2-de77605c0815",
   "metadata": {},
   "outputs": [],
   "source": [
    "\"\"\"Q.4\n",
    "Bayes's Theorem is a fundamental concept in probability theory and statistics that relates conditional probabilities. It allows us to update our beliefs or probabilities about an event based on new evidence or information. The theorem is named after the Reverend Thomas Bayes, who developed the foundation for this theorem in the 18th century.\n",
    "\n",
    "The formula for Bayes's Theorem is as follows:\n",
    "P(A|B) = P(B|A).P(A)\n",
    "         ----------\n",
    "            P(B)\n",
    "Where:\n",
    "P(A∣B) is the probability of event A occurring given that event B has occurred (the updated probability).\n",
    "P(B∣A) is the probability of event B occurring given that event A has occurred (the likelihood).\n",
    "P(A) is the prior probability of event A occurring (our initial belief about the probability of A).\n",
    "P(B) is the probability of event B occurring (the marginal likelihood).  \n",
    "Example Scenario:\n",
    "Suppose there is a disease that affects 1% of the population. A medical test has been developed to diagnose this disease. The test is 95% accurate when the disease is present and 90% accurate when the disease is absent. You want to find out the probability that a person has the disease given that they tested positive for it.\n",
    "A: Person has the disease.\n",
    "B: Person tests positive for the disease.\n",
    "P(A)=0.01 (prior probability of having the disease)\n",
    "P(B∣A)=0.95 (probability of testing positive given that the person has the disease\n",
    "P(B∣¬A)=0.10 (probability of testing positive given that the person does not have the disease)\n",
    "P(¬A)=0.99 (probability of not having the disease)\n",
    "Using Bayes's Theorem:\n",
    "P(A|B) = P(B|A).P(A)\n",
    "         ----------\n",
    "            P(B)\n",
    " First, calculate P(B):\n",
    "P(B)=P(B∣A)⋅P(A)+P(B∣¬A)⋅P(¬A)\n",
    "P(B)=(0.95⋅0.01)+(0.10⋅0.99)=0.1045\n",
    "P(A∣B)= P(B|A).P(A)\n",
    "         ----------\n",
    "            P(B)\n",
    "\n",
    "      =   0.95*O.O1\n",
    "          -----------\n",
    "            0.1O45\n",
    "      =   0.0905  "
   ]
  },
  {
   "cell_type": "code",
   "execution_count": null,
   "id": "cb545df0-530e-4b17-91e1-636c5d3b26d0",
   "metadata": {},
   "outputs": [],
   "source": [
    "\"\"\"Q.5\n",
    "A confidence interval is a range of values that is used to estimate an unknown population parameter with a certain level of confidence. It provides a way to quantify the uncertainty associated with our estimate. In other words, a confidence interval indicates the range within which the true population parameter is likely to fall based on the sample data.\n",
    "Confidence intervals are commonly used in statistics to convey the precision and reliability of an estimate. The level of confidence is expressed as a percentage (such as 95% or 99%), and it represents the probability that the interval contains the true population parameter.\n",
    "The formula for calculating a confidence interval depends on the distribution of the data and the parameter being estimated. For a population mean with a known population standard deviation, the formula is:\n",
    "Confidence Interval=Sample Mean±(Z-Score× Population Standard Deviation/Sample Size**0.5)\n",
    "Where:\n",
    "Sample Mean: The mean of the sample data.\n",
    "Z-Score: The critical value from the standard normal distribution corresponding to the chosen confidence level. For a 95% confidence level, the Z-score is approximately 1.96.\n",
    "Population Standard Deviation: The known standard deviation of the population.\n",
    "Sample Size: The size of the sample.\n",
    "Example:\n",
    "Suppose you want to estimate the average height of a certain population. You collect a random sample of 50 individuals and measure their heights. The sample mean height is 165 cm, and the known population standard deviation is 10 cm.\n",
    "You want to calculate a 95% confidence interval for the population mean height."
   ]
  },
  {
   "cell_type": "code",
   "execution_count": 1,
   "id": "a587969b-f7d5-4e2c-a242-ee7ccb0e55c4",
   "metadata": {
    "tags": []
   },
   "outputs": [
    {
     "name": "stdout",
     "output_type": "stream",
     "text": [
      "Confidence Level: 95.0%\n",
      "Z-Score: 1.959963984540054\n",
      "Margin of Error: 2.7718076486993555\n",
      "95% Confidence Interval: [162.22819235130063, 167.77180764869937] cm\n"
     ]
    }
   ],
   "source": [
    "import scipy.stats as stats\n",
    "sample_mean = 165\n",
    "population_std_dev = 10\n",
    "sample_size = 50\n",
    "confidence_level = 0.95\n",
    "z_score = stats.norm.ppf(1 - (1 - confidence_level) / 2)# Calculate the Z-score for the desired confidence level\n",
    "margin_of_error = z_score * (population_std_dev / (sample_size ** 0.5))# Calculate the margin of error\n",
    "lower_bound = sample_mean - margin_of_error# Calculate the lower and upper bounds of the confidence interval\n",
    "upper_bound = sample_mean + margin_of_error\n",
    "print(f\"Confidence Level: {confidence_level * 100}%\")\n",
    "print(f\"Z-Score: {z_score}\")\n",
    "print(f\"Margin of Error: {margin_of_error}\")\n",
    "print(f\"95% Confidence Interval: [{lower_bound}, {upper_bound}] cm\")"
   ]
  },
  {
   "cell_type": "code",
   "execution_count": null,
   "id": "7223ecfa-55f3-47fe-b5b6-d9147d9cb945",
   "metadata": {},
   "outputs": [],
   "source": [
    "\"\"\"Q.6\n",
    "Sample Problem:\n",
    "Suppose a company sells two models of smartphones: Model X and Model Y. Historically, 30% of the customers choose Model X (Event A). It is known that among the customers who choose Model X, 95% are satisfied with their purchase (Event B). Similarly, among the customers who choose Model Y, 85% are satisfied (Event B). You receive feedback from a customer who is satisfied with their purchase and want to find the probability that they chose Model X."
   ]
  },
  {
   "cell_type": "code",
   "execution_count": 4,
   "id": "7403d8d7-75be-4867-ba41-dbfa404574af",
   "metadata": {
    "tags": []
   },
   "outputs": [
    {
     "name": "stdout",
     "output_type": "stream",
     "text": [
      "The probability that the customer chose Model X given satisfaction is: 0.32386363636363635\n"
     ]
    }
   ],
   "source": [
    "p_A = 0.30              # Probability of choosing Model X\n",
    "p_B_given_A = 0.95      # Probability of being satisfied given Model X was chosen\n",
    "p_B_given_not_A = 0.85  # Probability of being satisfied given Model Y was chosen\n",
    "p_not_A = 1 - p_A       # Calculate the probability of not choosing Model X\n",
    "p_B = (p_B_given_A * p_A) + (p_B_given_not_A * p_not_A) # Calculate the marginal likelihood P(B)\n",
    "p_A_given_B = (p_B_given_A * p_A) / p_B  # Calculate the probability of choosing Model X given satisfaction, using Bayes' Theorem\n",
    "print(f\"The probability that the customer chose Model X given satisfaction is: {p_A_given_B}\")"
   ]
  },
  {
   "cell_type": "code",
   "execution_count": 5,
   "id": "2fcc478f-bc83-4055-8230-0c4d606f8d1f",
   "metadata": {
    "tags": []
   },
   "outputs": [
    {
     "name": "stdout",
     "output_type": "stream",
     "text": [
      "95% Confidence Interval: [49.02001800772997, 50.97998199227003]\n"
     ]
    }
   ],
   "source": [
    "#Q.7\n",
    "confidence_interval=0.95 #Given data\n",
    "sample_mean=50\n",
    "population_std=5\n",
    "sample_size=100  #Assuming sample size\n",
    "z_score=stats.norm.ppf(1-(1-confidence_interval)/2) #Find z score\n",
    "margin_error=z_score*(population_std/(sample_size**0.5)) \n",
    "lower_bound=sample_mean-margin_error  #Calculate Confidence interval\n",
    "upper_bound=sample_mean+margin_error\n",
    "print(f\"95% Confidence Interval: [{lower_bound}, {upper_bound}]\")"
   ]
  },
  {
   "cell_type": "code",
   "execution_count": null,
   "id": "894b812c-9a2d-42a1-bd1a-40cf80799531",
   "metadata": {},
   "outputs": [],
   "source": [
    "\"\"\"Interpretation:\n",
    "With a 95% confidence level, we can interpret the confidence interval as follows: We are 95% confident that the true population mean lies within the interval 49.02 to 50.98.This means that if we were to collect many samples and calculate 95% confidence intervals for each sample, about 95% of those intervals would contain the true population mean of the data."
   ]
  },
  {
   "cell_type": "code",
   "execution_count": null,
   "id": "d78e2f92-4b0d-4a4e-b23b-cb7f9f5247d2",
   "metadata": {},
   "outputs": [],
   "source": [
    "\"\"\"Q.8\n",
    "The margin of error in a confidence interval is a measure of the uncertainty or range of values around a sample estimate that accounts for the variability in the data. It reflects how much the sample estimate might deviate from the true population parameter. A larger margin of error indicates greater uncertainty, while a smaller margin of error indicates greater precision in the estimate.\n",
    "The margin of error is influenced by three main factors:\n",
    "1.Confidence Level: A higher confidence level (e.g., 95% or 99%) requires a wider interval to capture the population parameter with higher certainty, resulting in a larger margin of error.\n",
    "2.Sample Standard Deviation: A higher standard deviation in the sample data leads to greater variability and a wider interval, resulting in a larger margin of error.\n",
    "3.Sample Size: A larger sample size reduces variability and leads to a narrower interval, resulting in a smaller margin of error.\n",
    "Sample Size and Margin of Error:\n",
    "Increasing the sample size generally leads to a smaller margin of error. This is because a larger sample provides more information about the population, reducing the variability in the estimate. As the sample size increases, the estimate becomes more stable and closer to the true population parameter. Consequently, the confidence interval becomes narrower, and the margin of error decreases.\n",
    "Example Scenario:\n",
    "Suppose you are conducting a survey to estimate the average income of households in a city. You have two options: one with a small sample size of 50 households and another with a larger sample size of 500 households. Let's assume that both surveys have the same confidence level of 95%.\n",
    "For the small sample size (50 households):\n",
    "The variability due to the smaller sample might result in a wider confidence interval and a larger margin of error.\n",
    "For the larger sample size (500 households):\n",
    "The larger sample size provides more data points and reduces variability, leading to a narrower confidence interval and a smaller margin of error.\n",
    "In this scenario, a larger sample size (e.g., 500 households) would result in a smaller margin of error, making the estimate of the average household income more precise and reliable. This illustrates the principle that increasing the sample size generally leads to more accurate and narrower confidence intervals."
   ]
  },
  {
   "cell_type": "code",
   "execution_count": 7,
   "id": "4eeb481f-f1c4-45bf-bcdc-159eb8369b20",
   "metadata": {
    "tags": []
   },
   "outputs": [
    {
     "name": "stdout",
     "output_type": "stream",
     "text": [
      "1.0\n"
     ]
    }
   ],
   "source": [
    "#Q.9\n",
    "datapoint=75\n",
    "population_mean=70\n",
    "population_std=5\n",
    "z_score=(datapoint-population_mean)/population_std\n",
    "print(z_score)"
   ]
  },
  {
   "cell_type": "code",
   "execution_count": null,
   "id": "d35537f3-6d0d-4862-8c53-45d2c4f5851e",
   "metadata": {},
   "outputs": [],
   "source": [
    "\"\"\"Interpretation:\n",
    "A z-score of 1 indicates that the data point (value of 75) is 1 standard deviation above the population mean (70). In terms of the standard normal distribution, a z-score of 1 corresponds to a point that is at the 84th percentile. This means that the data point is higher than about 84% of the data in the population. In other words, the value of 75 is relatively high compared to the rest of the population, being one standard deviation above the mean."
   ]
  },
  {
   "cell_type": "code",
   "execution_count": 9,
   "id": "c8dcca00-999c-4e66-bcd5-be833ccc50a1",
   "metadata": {},
   "outputs": [
    {
     "name": "stdout",
     "output_type": "stream",
     "text": [
      "Critical t-value -1.6765508919142629\n",
      "T-value 16.970562748477143\n",
      "Fail to reject Null Hypothesis: The new weight loss drug is not significantly effective\n"
     ]
    }
   ],
   "source": [
    "#Q.10\n",
    "sample_size=50  # Given sample information\n",
    "sample_mean=6\n",
    "sample_std=2.5\n",
    "confidence_interval=0.95\n",
    "dof=sample_size-1  # Degrees of freedom\n",
    "critical_t_score=stats.t.ppf(1-confidence_interval,dof)  # Find the critical t-value for a one-tailed test\n",
    "t_test_value=((sample_mean-0)/(sample_std/sample_size**0.5)) #Find t test value, here pop_mean is 0 as considering null hypothesis true\n",
    "print(\"Critical t-value\",critical_t_score)\n",
    "print(\"T-value\",t_test_value)\n",
    "if t_test_value < critical_t_score:   #Compare if the null hypothesis is rejected\n",
    "    print(\"Reject Null Hypothesis: The new weight loss drug is significantly effective\")\n",
    "else:\n",
    "    print(\"Fail to reject Null Hypothesis: The new weight loss drug is not significantly effective\")"
   ]
  },
  {
   "cell_type": "code",
   "execution_count": 36,
   "id": "92099ed4-6bee-4777-b895-5271b4e6333c",
   "metadata": {
    "tags": []
   },
   "outputs": [
    {
     "name": "stdout",
     "output_type": "stream",
     "text": [
      "At 95% Confidence level: (0.6081925393809212,0.6918074606190788) proportion of people are satisfied with their job\n"
     ]
    }
   ],
   "source": [
    "#Q.11\n",
    "sample_size=500\n",
    "sample_proportion=0.65\n",
    "confidence_interval=0.95\n",
    "z_score=stats.norm.ppf(1-(1-confidence_interval)/2)\n",
    "margin_error=z_score*((sample_proportion*(1-sample_proportion)/sample_size)**0.5)\n",
    "lower_bound=sample_proportion-margin_error\n",
    "upper_bound=sample_proportion+margin_error\n",
    "print(f\"At 95% Confidence level: ({lower_bound},{upper_bound}) proportion of people are satisfied with their job\")"
   ]
  },
  {
   "cell_type": "code",
   "execution_count": 34,
   "id": "2941f9aa-ed63-4a8d-9691-943dded6244a",
   "metadata": {
    "tags": []
   },
   "outputs": [
    {
     "name": "stdout",
     "output_type": "stream",
     "text": [
      "Reject Null Hypothesis:Two teaching methods do not have significant difference in student performane\n"
     ]
    }
   ],
   "source": [
    "#Q.12\n",
    "#Sample A\n",
    "mean1=85\n",
    "std1=6\n",
    "n1=50  #Assuming sample size\n",
    "#Sample B\n",
    "mean2=82\n",
    "std2=5\n",
    "n2=50\n",
    "significance_level=0.01\n",
    "t_statistic,p_value=stats.ttest_ind_from_stats(mean1,std1,n1,mean2,std2,n2) #Find t statistic and p value\n",
    "if p_value<significance_level:  #Compare p value with significance level\n",
    "    print(\"Reject Null Hypothesis:Two teaching methods do not have significant difference in student performane\")\n",
    "else:\n",
    "    print(\"Fail to reject Null Hypothesis:Two teaching methods have a significant difference in student performance\")"
   ]
  },
  {
   "cell_type": "code",
   "execution_count": 22,
   "id": "c2379024-1f9b-4a42-8bf6-15cb1477b77a",
   "metadata": {
    "tags": []
   },
   "outputs": [
    {
     "name": "stdout",
     "output_type": "stream",
     "text": [
      "90% Confidence Interval: [63.13906055411732, 66.86093944588268]\n"
     ]
    }
   ],
   "source": [
    "#Q.13\n",
    "population_mean=60\n",
    "population_std=8\n",
    "sample_size=50\n",
    "sample_mean=65\n",
    "confidence_interval=0.90\n",
    "z_score=stats.norm.ppf(1-(1-confidence_interval)/2)\n",
    "margin_error=z_score*(population_std/(sample_size**0.5))\n",
    "lower_bound=sample_mean-margin_error\n",
    "upper_bound=sample_mean+margin_error\n",
    "print(f\"90% Confidence Interval: [{lower_bound}, {upper_bound}]\")"
   ]
  },
  {
   "cell_type": "code",
   "execution_count": 27,
   "id": "46912d32-b5fe-4efb-86c8-0be6f46f4dc9",
   "metadata": {
    "tags": []
   },
   "outputs": [
    {
     "name": "stdout",
     "output_type": "stream",
     "text": [
      "Critical t-value 1.6991270265334972\n",
      "T-value 27.386127875258307\n",
      "Reject Null Hypothesis: Caffeine has a significant effect on reaction time\n"
     ]
    }
   ],
   "source": [
    "#Q.14\n",
    "sample_size=30\n",
    "confidence_interval=0.90\n",
    "significance_level=1-confidence_interval\n",
    "sample_mean=0.25\n",
    "sample_std=0.05\n",
    "dof=sample_size-1  # Degrees of freedom\n",
    "critical_t_score=stats.t.ppf(1-significance_level/2,dof)  # Find the critical t-value for a one-tailed test\n",
    "t_test_value=((sample_mean-0)/(sample_std/sample_size**0.5)) #Find t test value\n",
    "print(\"Critical t-value\",critical_t_score)\n",
    "\n",
    "print(\"T-value\",t_test_value)\n",
    "if t_test_value>critical_t_score:   #Compare if the null hypothesis is rejected\n",
    "    print(\"Reject Null Hypothesis: Caffeine has a significant effect on reaction time\")\n",
    "else:\n",
    "    print(\"Fail to reject Null Hypothesis: Caffeine does not have a significant effect on reaction time\")"
   ]
  }
 ],
 "metadata": {
  "kernelspec": {
   "display_name": "Python 3 (ipykernel)",
   "language": "python",
   "name": "python3"
  },
  "language_info": {
   "codemirror_mode": {
    "name": "ipython",
    "version": 3
   },
   "file_extension": ".py",
   "mimetype": "text/x-python",
   "name": "python",
   "nbconvert_exporter": "python",
   "pygments_lexer": "ipython3",
   "version": "3.11.3"
  }
 },
 "nbformat": 4,
 "nbformat_minor": 5
}
